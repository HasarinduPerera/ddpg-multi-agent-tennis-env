{
 "cells": [
  {
   "cell_type": "markdown",
   "metadata": {},
   "source": [
    "# Collaboration and Competition\n",
    "\n",
    "---\n",
    "\n",
    "In this notebook, you will learn how to use the Unity ML-Agents environment for the third project of the [Deep Reinforcement Learning Nanodegree](https://www.udacity.com/course/deep-reinforcement-learning-nanodegree--nd893) program.\n",
    "\n",
    "### 1. Start the Environment\n",
    "\n",
    "We begin by importing the necessary packages.  If the code cell below returns an error, please revisit the project instructions to double-check that you have installed [Unity ML-Agents](https://github.com/Unity-Technologies/ml-agents/blob/master/docs/Installation.md) and [NumPy](http://www.numpy.org/)."
   ]
  },
  {
   "cell_type": "code",
   "execution_count": 1,
   "metadata": {},
   "outputs": [],
   "source": [
    "from unityagents import UnityEnvironment\n",
    "import numpy as np"
   ]
  },
  {
   "cell_type": "markdown",
   "metadata": {},
   "source": [
    "Next, we will start the environment!  **_Before running the code cell below_**, change the `file_name` parameter to match the location of the Unity environment that you downloaded.\n",
    "\n",
    "- **Mac**: `\"path/to/Tennis.app\"`\n",
    "- **Windows** (x86): `\"path/to/Tennis_Windows_x86/Tennis.exe\"`\n",
    "- **Windows** (x86_64): `\"path/to/Tennis_Windows_x86_64/Tennis.exe\"`\n",
    "- **Linux** (x86): `\"path/to/Tennis_Linux/Tennis.x86\"`\n",
    "- **Linux** (x86_64): `\"path/to/Tennis_Linux/Tennis.x86_64\"`\n",
    "- **Linux** (x86, headless): `\"path/to/Tennis_Linux_NoVis/Tennis.x86\"`\n",
    "- **Linux** (x86_64, headless): `\"path/to/Tennis_Linux_NoVis/Tennis.x86_64\"`\n",
    "\n",
    "For instance, if you are using a Mac, then you downloaded `Tennis.app`.  If this file is in the same folder as the notebook, then the line below should appear as follows:\n",
    "```\n",
    "env = UnityEnvironment(file_name=\"Tennis.app\")\n",
    "```"
   ]
  },
  {
   "cell_type": "code",
   "execution_count": 2,
   "metadata": {},
   "outputs": [
    {
     "name": "stderr",
     "output_type": "stream",
     "text": [
      "INFO:unityagents:\n",
      "'Academy' started successfully!\n",
      "Unity Academy name: Academy\n",
      "        Number of Brains: 1\n",
      "        Number of External Brains : 1\n",
      "        Lesson number : 0\n",
      "        Reset Parameters :\n",
      "\t\t\n",
      "Unity brain name: TennisBrain\n",
      "        Number of Visual Observations (per agent): 0\n",
      "        Vector Observation space type: continuous\n",
      "        Vector Observation space size (per agent): 8\n",
      "        Number of stacked Vector Observation: 3\n",
      "        Vector Action space type: continuous\n",
      "        Vector Action space size (per agent): 2\n",
      "        Vector Action descriptions: , \n"
     ]
    }
   ],
   "source": [
    "env = UnityEnvironment(file_name=\"Tennis_Linux/Tennis.x86_64\")"
   ]
  },
  {
   "cell_type": "markdown",
   "metadata": {},
   "source": [
    "Environments contain **_brains_** which are responsible for deciding the actions of their associated agents. Here we check for the first brain available, and set it as the default brain we will be controlling from Python."
   ]
  },
  {
   "cell_type": "code",
   "execution_count": 3,
   "metadata": {},
   "outputs": [],
   "source": [
    "# get the default brain\n",
    "brain_name = env.brain_names[0]\n",
    "brain = env.brains[brain_name]"
   ]
  },
  {
   "cell_type": "markdown",
   "metadata": {},
   "source": [
    "### 2. Examine the State and Action Spaces\n",
    "\n",
    "In this environment, two agents control rackets to bounce a ball over a net. If an agent hits the ball over the net, it receives a reward of +0.1.  If an agent lets a ball hit the ground or hits the ball out of bounds, it receives a reward of -0.01.  Thus, the goal of each agent is to keep the ball in play.\n",
    "\n",
    "The observation space consists of 8 variables corresponding to the position and velocity of the ball and racket. Two continuous actions are available, corresponding to movement toward (or away from) the net, and jumping. \n",
    "\n",
    "Run the code cell below to print some information about the environment."
   ]
  },
  {
   "cell_type": "code",
   "execution_count": 4,
   "metadata": {},
   "outputs": [
    {
     "name": "stdout",
     "output_type": "stream",
     "text": [
      "Number of agents: 2\n",
      "Size of each action: 2\n",
      "There are 2 agents. Each observes a state with length: 24\n",
      "The state for the first agent looks like: [ 0.          0.          0.          0.          0.          0.\n",
      "  0.          0.          0.          0.          0.          0.\n",
      "  0.          0.          0.          0.         -6.65278625 -1.5\n",
      " -0.          0.          6.83172083  6.         -0.          0.        ]\n"
     ]
    }
   ],
   "source": [
    "# reset the environment\n",
    "env_info = env.reset(train_mode=True)[brain_name]\n",
    "\n",
    "# number of agents \n",
    "num_agents = len(env_info.agents)\n",
    "print('Number of agents:', num_agents)\n",
    "\n",
    "# size of each action\n",
    "action_size = brain.vector_action_space_size\n",
    "print('Size of each action:', action_size)\n",
    "\n",
    "# examine the state space \n",
    "states = env_info.vector_observations\n",
    "state_size = states.shape[1]\n",
    "print('There are {} agents. Each observes a state with length: {}'.format(states.shape[0], state_size))\n",
    "print('The state for the first agent looks like:', states[0])"
   ]
  },
  {
   "cell_type": "markdown",
   "metadata": {},
   "source": [
    "### 3. Take Random Actions in the Environment\n",
    "\n",
    "In the next code cell, you will learn how to use the Python API to control the agents and receive feedback from the environment.\n",
    "\n",
    "Once this cell is executed, you will watch the agents' performance, if they select actions at random with each time step.  A window should pop up that allows you to observe the agents.\n",
    "\n",
    "Of course, as part of the project, you'll have to change the code so that the agents are able to use their experiences to gradually choose better actions when interacting with the environment!"
   ]
  },
  {
   "cell_type": "code",
   "execution_count": 5,
   "metadata": {},
   "outputs": [
    {
     "name": "stdout",
     "output_type": "stream",
     "text": [
      "Score (max over agents) from episode 1: 0.0\n",
      "Score (max over agents) from episode 2: 0.0\n",
      "Score (max over agents) from episode 3: 0.0\n",
      "Score (max over agents) from episode 4: 0.0\n",
      "Score (max over agents) from episode 5: 0.10000000149011612\n"
     ]
    }
   ],
   "source": [
    "for i in range(1, 6):                                      # play game for 5 episodes\n",
    "    env_info = env.reset(train_mode=False)[brain_name]     # reset the environment    \n",
    "    states = env_info.vector_observations                  # get the current state (for each agent)\n",
    "    scores = np.zeros(num_agents)                          # initialize the score (for each agent)\n",
    "    while True:\n",
    "        actions = np.random.randn(num_agents, action_size) # select an action (for each agent)\n",
    "        actions = np.clip(actions, -1, 1)                  # all actions between -1 and 1\n",
    "        env_info = env.step(actions)[brain_name]           # send all actions to tne environment\n",
    "        next_states = env_info.vector_observations         # get next state (for each agent)\n",
    "        rewards = env_info.rewards                         # get reward (for each agent)\n",
    "        dones = env_info.local_done                        # see if episode finished\n",
    "        scores += env_info.rewards                         # update the score (for each agent)\n",
    "        states = next_states                               # roll over states to next time step\n",
    "        if np.any(dones):                                  # exit loop if episode finished\n",
    "            break\n",
    "    print('Score (max over agents) from episode {}: {}'.format(i, np.max(scores)))"
   ]
  },
  {
   "cell_type": "markdown",
   "metadata": {},
   "source": [
    "When finished, you can close the environment."
   ]
  },
  {
   "cell_type": "code",
   "execution_count": 6,
   "metadata": {},
   "outputs": [],
   "source": [
    "#env.close()"
   ]
  },
  {
   "cell_type": "markdown",
   "metadata": {},
   "source": [
    "### 4. It's Your Turn!\n",
    "\n",
    "Now it's your turn to train your own agent to solve the environment!  When training the environment, set `train_mode=True`, so that the line for resetting the environment looks like the following:\n",
    "```python\n",
    "env_info = env.reset(train_mode=True)[brain_name]\n",
    "```"
   ]
  },
  {
   "cell_type": "code",
   "execution_count": 7,
   "metadata": {},
   "outputs": [],
   "source": [
    "import random\n",
    "import torch\n",
    "import numpy as np\n",
    "import matplotlib.pyplot as plt\n",
    "import time\n",
    "from collections import deque\n",
    "from ddpg_agent import Agent\n",
    "\n",
    "%matplotlib inline"
   ]
  },
  {
   "cell_type": "code",
   "execution_count": 8,
   "metadata": {},
   "outputs": [],
   "source": [
    "agentOne = Agent(state_size=state_size, action_size=action_size, random_seed=0)\n",
    "agentTwo = Agent(state_size=state_size, action_size=action_size, random_seed=0)\n",
    "\n",
    "agents=[agentOne, agentTwo]"
   ]
  },
  {
   "cell_type": "code",
   "execution_count": 9,
   "metadata": {},
   "outputs": [],
   "source": [
    "n_episodes = 2000\n",
    "max_score = 0.5\n",
    "\n",
    "checkpoint_name = 'final'"
   ]
  },
  {
   "cell_type": "code",
   "execution_count": 10,
   "metadata": {},
   "outputs": [
    {
     "name": "stdout",
     "output_type": "stream",
     "text": [
      "Episode 100\tAverage Score: 0.00\tScore: 0.00\tAgentOne: -0.00\tAgentTwo: -0.00\n",
      "Episode 200\tAverage Score: 0.01\tScore: 0.00\tAgentOne: -0.00\tAgentTwo: 0.000\n",
      "Episode 300\tAverage Score: 0.02\tScore: 0.00\tAgentOne: 0.01\tAgentTwo: 0.010\n",
      "Episode 400\tAverage Score: 0.03\tScore: 0.09\tAgentOne: -0.00\tAgentTwo: 0.02\n",
      "Episode 500\tAverage Score: 0.08\tScore: 0.10\tAgentOne: 0.05\tAgentTwo: 0.05\n",
      "Episode 600\tAverage Score: 0.18\tScore: 0.20\tAgentOne: 0.15\tAgentTwo: 0.14\n",
      "Episode 700\tAverage Score: 0.19\tScore: 0.30\tAgentOne: 0.16\tAgentTwo: 0.16\n",
      "Episode 800\tAverage Score: 0.21\tScore: 0.00\tAgentOne: 0.20\tAgentTwo: 0.18\n",
      "Episode 900\tAverage Score: 0.13\tScore: 0.00\tAgentOne: 0.13\tAgentTwo: 0.09\n",
      "Episode 1000\tAverage Score: 0.16\tScore: 0.20\tAgentOne: 0.15\tAgentTwo: 0.12\n",
      "Episode 1100\tAverage Score: 0.22\tScore: 0.09\tAgentOne: 0.19\tAgentTwo: 0.17\n",
      "Episode 1200\tAverage Score: 0.11\tScore: 0.10\tAgentOne: 0.10\tAgentTwo: 0.05\n",
      "Episode 1300\tAverage Score: 0.07\tScore: 0.10\tAgentOne: 0.07\tAgentTwo: 0.01\n",
      "Episode 1400\tAverage Score: 0.07\tScore: 0.10\tAgentOne: 0.06\tAgentTwo: -0.00\n",
      "Episode 1500\tAverage Score: 0.05\tScore: 0.00\tAgentOne: 0.05\tAgentTwo: -0.00\n",
      "Episode 1600\tAverage Score: 0.09\tScore: 0.00\tAgentOne: 0.08\tAgentTwo: 0.030\n",
      "Episode 1700\tAverage Score: 0.26\tScore: 0.10\tAgentOne: 0.26\tAgentTwo: 0.22\n",
      "Episode 1725\tAverage Score: 0.51\tScore: 2.60\tAgentOne: 0.49\tAgentTwo: 0.46\n",
      "\u001b[92mEnvironment solved in 1625 episodes!\tAverage Score: 0.51\u001b[0m\n",
      "\u001b[32mElapsed time to complete: 15336.867339611053\u001b[0m\n"
     ]
    },
    {
     "data": {
      "image/png": "[encoded data removed]",
      "text/plain": [
       "<Figure size 432x288 with 1 Axes>"
      ]
     },
     "metadata": {
      "needs_background": "light"
     },
     "output_type": "display_data"
    }
   ],
   "source": [
    "def ddpg(n_episodes=n_episodes, max_score=max_score):\n",
    "    scores_deque = deque(maxlen=100)\n",
    "    scores_deque_one = deque(maxlen=100)\n",
    "    scores_deque_two = deque(maxlen=100)\n",
    "    scores = []\n",
    "    \n",
    "    \n",
    "    # start timer\n",
    "    start_time = time.time()\n",
    "\n",
    "    for i_episode in range(1, n_episodes+1):\n",
    "        env_info = env.reset(train_mode=True)[brain_name]\n",
    "        state = env_info.vector_observations\n",
    "        score = np.zeros(num_agents)\n",
    "        best_score = 0\n",
    "\n",
    "        for agent in agents:\n",
    "            agent.reset()\n",
    "        \n",
    "        while True:\n",
    "            action_one = agentOne.act(state[0])            # Take action\n",
    "            action_two = agentTwo.act(state[1])\n",
    "            actions = [action_one, action_two]\n",
    "            env_info = env.step(actions)[brain_name]       # send the action to the environment\n",
    "            next_state = env_info.vector_observations      # get the next state\n",
    "            reward = env_info.rewards                      # get the reward\n",
    "            done = env_info.local_done                     # see if episode has finished\n",
    "            \n",
    "            score[0] += reward[0]\n",
    "            score[1] += reward[1]\n",
    "            \n",
    "            agentOne.step(state[0], action_one, reward[0], next_state[0], done[0])\n",
    "            agentTwo.step(state[1], action_two, reward[1], next_state[1], done[1])\n",
    "            \n",
    "            state = next_state\n",
    "            \n",
    "            if np.any(done):\n",
    "                break \n",
    "                \n",
    "        best_score = max(score)\n",
    "        scores_deque.append(best_score)\n",
    "        scores_deque_one.append(score[0])\n",
    "        scores_deque_two.append(score[1]) \n",
    "        scores.append(best_score)\n",
    "        print('\\rEpisode {}\\tAverage Score: {:.2f}\\tScore: {:.2f}\\tAgentOne: {:.2f}\\tAgentTwo: {:.2f}'.format(i_episode, np.mean(scores_deque), best_score, np.mean(scores_deque_one), np.mean(scores_deque_two)), end=\"\")\n",
    "        if i_episode % 100 == 0:\n",
    "            torch.save(agentOne.actor_local.state_dict(), f'{checkpoint_name}_checkpoint_actor_a1.pth')\n",
    "            torch.save(agentTwo.actor_local.state_dict(), f'{checkpoint_name}_checkpoint_actor_a2.pth')\n",
    "            torch.save(agentOne.critic_local.state_dict(), f'{checkpoint_name}_checkpoint_critic_a1.pth')\n",
    "            torch.save(agentTwo.critic_local.state_dict(), f'{checkpoint_name}_checkpoint_critic_a2.pth')\n",
    "            print('\\rEpisode {}\\tAverage Score: {:.2f}\\tScore: {:.2f}\\tAgentOne: {:.2f}\\tAgentTwo: {:.2f}'.format(i_episode, np.mean(scores_deque), best_score, np.mean(scores_deque_one), np.mean(scores_deque_two)), end=\"\\n\")\n",
    "        if np.mean(scores_deque) >= max_score:\n",
    "            print('\\n\\033[92mEnvironment solved in {:d} episodes!\\tAverage Score: {:.2f}\\033[0m'.format(i_episode - 100,\n",
    "                                                                                         np.mean(scores_deque)))\n",
    "            # Training End time\n",
    "            end_time = time.time()\n",
    "            duration = end_time - start_time\n",
    "            print(f\"\\033[32mElapsed time to complete: {duration}\\033[0m\")\n",
    "\n",
    "            torch.save(agentOne.actor_local.state_dict(), f'{checkpoint_name}_checkpoint_actor_a1.pth')\n",
    "            torch.save(agentTwo.actor_local.state_dict(), f'{checkpoint_name}_checkpoint_actor_a2.pth')\n",
    "            torch.save(agentOne.critic_local.state_dict(), f'{checkpoint_name}_checkpoint_critic_a1.pth')\n",
    "            torch.save(agentTwo.critic_local.state_dict(), f'{checkpoint_name}_checkpoint_critic_a2.pth')\n",
    "            break  \n",
    "    return scores\n",
    "\n",
    "scores = ddpg()\n",
    "\n",
    "fig = plt.figure()\n",
    "ax = fig.add_subplot(111)\n",
    "plt.plot(np.arange(1, len(scores)+1), scores)\n",
    "plt.ylabel('Score')\n",
    "plt.xlabel('Episode #')\n",
    "fig1 = plt.gcf()\n",
    "plt.show()\n",
    "fig1.savefig('{}.png'.format(checkpoint_name))"
   ]
  },
  {
   "cell_type": "code",
   "execution_count": 11,
   "metadata": {},
   "outputs": [],
   "source": [
    "agentOne.actor_local.load_state_dict(torch.load(f'{checkpoint_name}_checkpoint_actor_a1.pth'))\n",
    "agentOne.critic_local.load_state_dict(torch.load(f'{checkpoint_name}_checkpoint_critic_a1.pth'))\n",
    "\n",
    "agentTwo.actor_local.load_state_dict(torch.load(f'{checkpoint_name}_checkpoint_actor_a2.pth'))\n",
    "agentTwo.critic_local.load_state_dict(torch.load(f'{checkpoint_name}_checkpoint_critic_a2.pth'))"
   ]
  },
  {
   "cell_type": "code",
   "execution_count": 12,
   "metadata": {},
   "outputs": [
    {
     "name": "stdout",
     "output_type": "stream",
     "text": [
      "Iteration: 1 Score: 2.650000039488077\n",
      "Iteration: 2 Score: 2.650000039488077\n",
      "Iteration: 3 Score: 2.600000038743019\n",
      "Iteration: 4 Score: 1.7450000261887908\n",
      "Iteration: 5 Score: 0.09500000160187483\n",
      "Average Score: 1.948000029101968\n"
     ]
    }
   ],
   "source": [
    "score_list = []\n",
    "for i in range(5):\n",
    "    env_info = env.reset(train_mode=False)[brain_name] # reset the environment\n",
    "    state = env_info.vector_observations               # get the current state\n",
    "    score = np.zeros(num_agents)                       # initialize the score\n",
    "    #agent.reset()\n",
    "    while True:\n",
    "        action_one = agentOne.act(state[0])            # select an action\n",
    "        action_two = agentTwo.act(state[1])\n",
    "        actions = [action_one, action_two]\n",
    "        env_info = env.step(actions)[brain_name]       # send the action to the environment\n",
    "        next_state = env_info.vector_observations      # get the next state\n",
    "        reward = env_info.rewards                      # get the reward\n",
    "        done = env_info.local_done                     # see if episode has finished\n",
    "        score += reward                                # update the score\n",
    "        state = next_state                             # roll over the state to next time step\n",
    "        if np.any(done):\n",
    "            break\n",
    "    score = score.mean()\n",
    "    score_list.append(score)\n",
    "    print(\"Iteration: {} Score: {}\".format(i+1, score))\n",
    "\n",
    "avg_score = np.average(score_list)\n",
    "print(\"Average Score: {}\".format(avg_score))"
   ]
  },
  {
   "cell_type": "code",
   "execution_count": 13,
   "metadata": {},
   "outputs": [],
   "source": [
    "#env.close()"
   ]
  },
  {
   "cell_type": "code",
   "execution_count": null,
   "metadata": {},
   "outputs": [],
   "source": []
  }
 ],
 "metadata": {
  "kernelspec": {
   "display_name": "drlnd",
   "language": "python",
   "name": "drlnd"
  },
  "language_info": {
   "codemirror_mode": {
    "name": "ipython",
    "version": 3
   },
   "file_extension": ".py",
   "mimetype": "text/x-python",
   "name": "python",
   "nbconvert_exporter": "python",
   "pygments_lexer": "ipython3",
   "version": "3.6.13"
  }
 },
 "nbformat": 4,
 "nbformat_minor": 2
}
